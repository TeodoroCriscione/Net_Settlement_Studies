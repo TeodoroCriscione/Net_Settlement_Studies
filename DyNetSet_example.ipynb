{
 "cells": [
  {
   "cell_type": "code",
   "execution_count": 1,
   "metadata": {},
   "outputs": [],
   "source": [
    "import networkx as nx\n",
    "import matplotlib.pyplot as plt"
   ]
  },
  {
   "cell_type": "code",
   "execution_count": 2,
   "metadata": {},
   "outputs": [],
   "source": [
    "def shortest_path_with_edges(G, source, target, weight=\"weight\"):\n",
    "    # Get shortest path nodes\n",
    "    path_nodes = nx.shortest_path(G, source=source, target=target, weight=weight)\n",
    "    \n",
    "    # Extract edges and their attributes\n",
    "    path_edges = [(path_nodes[i], path_nodes[i+1]) for i in range(len(path_nodes)-1)]\n",
    "    path_edges_with_data = [(u, v, G[u][v]) for u, v in path_edges]\n",
    "\n",
    "    return path_nodes, path_edges_with_data"
   ]
  },
  {
   "cell_type": "code",
   "execution_count": 3,
   "metadata": {},
   "outputs": [],
   "source": [
    "# Depth-First Search (DFS)\n",
    "def is_predecessor(G, target_node, starting_node):\n",
    "    visited = set()\n",
    "    stack = [starting_node]\n",
    "    while stack:\n",
    "        node = stack.pop()\n",
    "        if node == target_node:\n",
    "            return True\n",
    "        if node not in visited:\n",
    "            visited.add(node)\n",
    "            # Traverse backwards (predecessors are other nodes at distance 1)\n",
    "            stack.extend(G.predecessors(node))  \n",
    "    return False"
   ]
  },
  {
   "cell_type": "code",
   "execution_count": 4,
   "metadata": {},
   "outputs": [
    {
     "name": "stdout",
     "output_type": "stream",
     "text": [
      "DiGraph with 10 nodes and 9 edges 108.0\n"
     ]
    }
   ],
   "source": [
    "# Tree Graph Example\n",
    "edge_bundle = [(1,2,{'weight':5}),\n",
    "               (1,3,{'weight':2}), # !\n",
    "                # branch 1\n",
    "               (2,4,{'weight':7}),\n",
    "               (2,5,{'weight':9}),\n",
    "               (2,6,{'weight':10}),\n",
    "                # branch 2\n",
    "               (10,7,{'weight':15}),\n",
    "               (3,7,{'weight':15}), # !\n",
    "               (3,8,{'weight':25}),\n",
    "               (3,9,{'weight':20}),\n",
    "               ]\n",
    "#for e in edge_bundle:\n",
    "G = nx.DiGraph()\n",
    "G.add_edges_from(edge_bundle)\n",
    "print(G, G.size('weight'))\n",
    "temporary_edge_bundle = [(7,1, {'weight':15})]"
   ]
  },
  {
   "cell_type": "code",
   "execution_count": 5,
   "metadata": {},
   "outputs": [
    {
     "data": {
      "image/png": "[encoded data removed]",
      "text/plain": [
       "<Figure size 500x400 with 1 Axes>"
      ]
     },
     "metadata": {},
     "output_type": "display_data"
    }
   ],
   "source": [
    "# Draw the tree using a hierarchical layout\n",
    "T = G.copy()\n",
    "T.add_edge(7,1, weight = 15)\n",
    "plt.figure(figsize=(5, 4))\n",
    "pos = nx.nx_agraph.graphviz_layout(T, prog=\"dot\")  # Uses Graphviz for tree layout\n",
    "nx.draw(G, pos, with_labels=True, node_size=500, node_color=\"lightblue\", edge_color=\"gray\")\n",
    "# Draw the highlighted edge in red\n",
    "nx.draw_networkx_edges(T, pos, edgelist=[(7,1, {'weight':15})], edge_color=\"red\", width=2)\n",
    "# Draw edge labels (weights)\n",
    "edge_labels = {(u, v): T[u][v]['weight'] for u, v in T.edges()}\n",
    "nx.draw_networkx_edge_labels(T, pos, edge_labels=edge_labels, font_color='black', font_size=10)\n",
    "\n",
    "plt.show()"
   ]
  },
  {
   "cell_type": "code",
   "execution_count": 6,
   "metadata": {},
   "outputs": [],
   "source": [
    "candidate = temporary_edge_bundle[0]\n",
    "# is 1 predecessor of 7?\n",
    "if is_predecessor(G, candidate[1], candidate[0]):\n",
    "    # path_edges_with_data\n",
    "    path_nodes, path_edges_with_data = shortest_path_with_edges(G, candidate[1], candidate[0], weight=\"weight\")\n",
    "    # delete from graph\n",
    "    G.remove_edges_from(path_edges_with_data)\n",
    "    # find minimum weight\n",
    "    path_edges_with_data.append(candidate)\n",
    "    path_edges_with_data = sorted(path_edges_with_data, key= lambda x: x[2]['weight'])\n",
    "    min_weight = path_edges_with_data[0][2]['weight']\n",
    "    path_edges_to_add = [(s,t,{'weight':w['weight']-min_weight}) for s,t,w in path_edges_with_data[1:]]\n",
    "    # update graph \n",
    "    G.add_edges_from(edge_bundle)"
   ]
  },
  {
   "cell_type": "code",
   "execution_count": 7,
   "metadata": {},
   "outputs": [
    {
     "name": "stdout",
     "output_type": "stream",
     "text": [
      "DiGraph with 10 nodes and 9 edges 108.0\n"
     ]
    },
    {
     "data": {
      "text/plain": [
       "[(3, 7, {'weight': 13}), (7, 1, {'weight': 13})]"
      ]
     },
     "execution_count": 7,
     "metadata": {},
     "output_type": "execute_result"
    }
   ],
   "source": [
    "print(G, G.size('weight'))\n",
    "path_edges_to_add"
   ]
  }
 ],
 "metadata": {
  "kernelspec": {
   "display_name": "base",
   "language": "python",
   "name": "python3"
  },
  "language_info": {
   "codemirror_mode": {
    "name": "ipython",
    "version": 3
   },
   "file_extension": ".py",
   "mimetype": "text/x-python",
   "name": "python",
   "nbconvert_exporter": "python",
   "pygments_lexer": "ipython3",
   "version": "3.12.2"
  }
 },
 "nbformat": 4,
 "nbformat_minor": 2
}
